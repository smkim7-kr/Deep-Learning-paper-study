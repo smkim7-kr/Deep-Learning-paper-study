{
  "nbformat": 4,
  "nbformat_minor": 0,
  "metadata": {
    "colab": {
      "name": "H2O.ipynb",
      "provenance": []
    },
    "kernelspec": {
      "display_name": "Python 3",
      "name": "python3"
    },
    "language_info": {
      "name": "python"
    }
  },
  "cells": [
    {
      "cell_type": "code",
      "metadata": {
        "id": "lluUeuKhSOdP",
        "colab": {
          "base_uri": "https://localhost:8080/"
        },
        "outputId": "85f7cb97-f83c-4b4f-8599-c96caee47b7b"
      },
      "source": [
        "!pip install --quiet category_encoders\n",
        "!pip install --quiet h2o"
      ],
      "execution_count": null,
      "outputs": [
        {
          "output_type": "stream",
          "text": [
            "\u001b[K     |████████████████████████████████| 81kB 6.4MB/s \n",
            "\u001b[K     |████████████████████████████████| 164.8MB 84kB/s \n",
            "\u001b[?25h  Building wheel for h2o (setup.py) ... \u001b[?25l\u001b[?25hdone\n"
          ],
          "name": "stdout"
        }
      ]
    },
    {
      "cell_type": "code",
      "metadata": {
        "colab": {
          "base_uri": "https://localhost:8080/"
        },
        "id": "1h9k9ONjS1Cg",
        "outputId": "565a40b2-66aa-4e8c-a4f4-38e101b231a9"
      },
      "source": [
        "import numpy as np \n",
        "import pandas as pd \n",
        "import matplotlib.pyplot as plt \n",
        "import seaborn as sns\n",
        "%matplotlib inline\n",
        "import joblib\n",
        "\n",
        "from sklearn.preprocessing import OneHotEncoder, LabelEncoder, StandardScaler\n",
        "from sklearn.impute import SimpleImputer\n",
        "from sklearn.linear_model import LogisticRegression, SGDClassifier\n",
        "from sklearn.svm import SVC\n",
        "from sklearn.ensemble import RandomForestClassifier, ExtraTreesClassifier, AdaBoostClassifier, GradientBoostingClassifier, VotingClassifier\n",
        "from sklearn.neighbors import KNeighborsClassifier\n",
        "from sklearn.naive_bayes import GaussianNB\n",
        "from sklearn.tree import DecisionTreeClassifier\n",
        "from sklearn import metrics\n",
        "from sklearn.metrics import confusion_matrix, precision_score, recall_score, f1_score, precision_recall_curve, classification_report, roc_curve, roc_auc_score\n",
        "from xgboost import XGBClassifier\n",
        "from sklearn import metrics\n",
        "from sklearn.model_selection import train_test_split, GridSearchCV, RandomizedSearchCV, cross_val_score, cross_val_predict, StratifiedKFold, learning_curve\n",
        "import lightgbm as lgb\n",
        "from lightgbm import LGBMClassifier\n",
        "from category_encoders.cat_boost import CatBoostEncoder\n",
        "import torch\n",
        "import random\n",
        "import os\n",
        "\n",
        "import h2o\n",
        "from h2o.automl import H2OAutoML"
      ],
      "execution_count": null,
      "outputs": [
        {
          "output_type": "stream",
          "text": [
            "/usr/local/lib/python3.7/dist-packages/statsmodels/tools/_testing.py:19: FutureWarning: pandas.util.testing is deprecated. Use the functions in the public API at pandas.testing instead.\n",
            "  import pandas.util.testing as tm\n"
          ],
          "name": "stderr"
        }
      ]
    },
    {
      "cell_type": "code",
      "metadata": {
        "id": "5acitrclS62i"
      },
      "source": [
        "seed = 42\n",
        "torch.manual_seed(seed)\n",
        "torch.cuda.manual_seed_all(seed)\n",
        "torch.backends.cudnn.deterministic = True\n",
        "torch.backends.cudnn.benchmark = False\n",
        "np.random.seed(seed)\n",
        "random.seed(seed)\n",
        "os.environ['PYTHONHASHSEED'] = str(seed)"
      ],
      "execution_count": null,
      "outputs": []
    },
    {
      "cell_type": "code",
      "metadata": {
        "colab": {
          "base_uri": "https://localhost:8080/",
          "height": 517
        },
        "id": "jXdXC1t4S-XZ",
        "outputId": "cc078a59-91b3-4908-9b5e-8eeda22980ca"
      },
      "source": [
        "h2o.init(\n",
        "    nthreads=-1,   \n",
        "    max_mem_size='12G'\n",
        ")"
      ],
      "execution_count": null,
      "outputs": [
        {
          "output_type": "stream",
          "text": [
            "Checking whether there is an H2O instance running at http://localhost:54321 ..... not found.\n",
            "Attempting to start a local H2O server...\n",
            "  Java Version: openjdk version \"11.0.11\" 2021-04-20; OpenJDK Runtime Environment (build 11.0.11+9-Ubuntu-0ubuntu2.18.04); OpenJDK 64-Bit Server VM (build 11.0.11+9-Ubuntu-0ubuntu2.18.04, mixed mode, sharing)\n",
            "  Starting server from /usr/local/lib/python3.7/dist-packages/h2o/backend/bin/h2o.jar\n",
            "  Ice root: /tmp/tmp356uheyj\n",
            "  JVM stdout: /tmp/tmp356uheyj/h2o_unknownUser_started_from_python.out\n",
            "  JVM stderr: /tmp/tmp356uheyj/h2o_unknownUser_started_from_python.err\n",
            "  Server is running at http://127.0.0.1:54321\n",
            "Connecting to H2O server at http://127.0.0.1:54321 ... successful.\n"
          ],
          "name": "stdout"
        },
        {
          "output_type": "display_data",
          "data": {
            "text/html": [
              "<div style=\"overflow:auto\"><table style=\"width:50%\"><tr><td>H2O_cluster_uptime:</td>\n",
              "<td>03 secs</td></tr>\n",
              "<tr><td>H2O_cluster_timezone:</td>\n",
              "<td>Etc/UTC</td></tr>\n",
              "<tr><td>H2O_data_parsing_timezone:</td>\n",
              "<td>UTC</td></tr>\n",
              "<tr><td>H2O_cluster_version:</td>\n",
              "<td>3.32.1.3</td></tr>\n",
              "<tr><td>H2O_cluster_version_age:</td>\n",
              "<td>1 month and 3 days </td></tr>\n",
              "<tr><td>H2O_cluster_name:</td>\n",
              "<td>H2O_from_python_unknownUser_71hfe8</td></tr>\n",
              "<tr><td>H2O_cluster_total_nodes:</td>\n",
              "<td>1</td></tr>\n",
              "<tr><td>H2O_cluster_free_memory:</td>\n",
              "<td>12 Gb</td></tr>\n",
              "<tr><td>H2O_cluster_total_cores:</td>\n",
              "<td>2</td></tr>\n",
              "<tr><td>H2O_cluster_allowed_cores:</td>\n",
              "<td>2</td></tr>\n",
              "<tr><td>H2O_cluster_status:</td>\n",
              "<td>accepting new members, healthy</td></tr>\n",
              "<tr><td>H2O_connection_url:</td>\n",
              "<td>http://127.0.0.1:54321</td></tr>\n",
              "<tr><td>H2O_connection_proxy:</td>\n",
              "<td>{\"http\": null, \"https\": null}</td></tr>\n",
              "<tr><td>H2O_internal_security:</td>\n",
              "<td>False</td></tr>\n",
              "<tr><td>H2O_API_Extensions:</td>\n",
              "<td>Amazon S3, XGBoost, Algos, AutoML, Core V3, TargetEncoder, Core V4</td></tr>\n",
              "<tr><td>Python_version:</td>\n",
              "<td>3.7.10 final</td></tr></table></div>"
            ],
            "text/plain": [
              "--------------------------  ------------------------------------------------------------------\n",
              "H2O_cluster_uptime:         03 secs\n",
              "H2O_cluster_timezone:       Etc/UTC\n",
              "H2O_data_parsing_timezone:  UTC\n",
              "H2O_cluster_version:        3.32.1.3\n",
              "H2O_cluster_version_age:    1 month and 3 days\n",
              "H2O_cluster_name:           H2O_from_python_unknownUser_71hfe8\n",
              "H2O_cluster_total_nodes:    1\n",
              "H2O_cluster_free_memory:    12 Gb\n",
              "H2O_cluster_total_cores:    2\n",
              "H2O_cluster_allowed_cores:  2\n",
              "H2O_cluster_status:         accepting new members, healthy\n",
              "H2O_connection_url:         http://127.0.0.1:54321\n",
              "H2O_connection_proxy:       {\"http\": null, \"https\": null}\n",
              "H2O_internal_security:      False\n",
              "H2O_API_Extensions:         Amazon S3, XGBoost, Algos, AutoML, Core V3, TargetEncoder, Core V4\n",
              "Python_version:             3.7.10 final\n",
              "--------------------------  ------------------------------------------------------------------"
            ]
          },
          "metadata": {
            "tags": []
          }
        }
      ]
    },
    {
      "cell_type": "code",
      "metadata": {
        "colab": {
          "base_uri": "https://localhost:8080/"
        },
        "id": "UR8X4sX4TahQ",
        "outputId": "c76c732d-343f-4400-8595-1caf7ec4c9eb"
      },
      "source": [
        "train = h2o.import_file(\"/content/drive/MyDrive/traincate.csv\")\n",
        "test = h2o.import_file(\"/content/drive/MyDrive/testcate.csv\")"
      ],
      "execution_count": null,
      "outputs": [
        {
          "output_type": "stream",
          "text": [
            "Parse progress: |█████████████████████████████████████████████████████████| 100%\n",
            "Parse progress: |█████████████████████████████████████████████████████████| 100%\n"
          ],
          "name": "stdout"
        }
      ]
    },
    {
      "cell_type": "code",
      "metadata": {
        "id": "QD4-Lx6fThL1"
      },
      "source": [
        "x = train.columns[1:-1]\n",
        "y = 'correct'"
      ],
      "execution_count": null,
      "outputs": []
    },
    {
      "cell_type": "code",
      "metadata": {
        "id": "-UItLMIfTpk7"
      },
      "source": [
        "train[y] = train[y].asfactor()\n",
        "test[y] = test[y].asfactor()"
      ],
      "execution_count": null,
      "outputs": []
    },
    {
      "cell_type": "code",
      "metadata": {
        "colab": {
          "base_uri": "https://localhost:8080/"
        },
        "id": "lhHsGgwSULs3",
        "outputId": "2a09671e-40b4-4c9a-987c-9b41f523a32a"
      },
      "source": [
        "aml = H2OAutoML(max_models=10000, seed=42, max_runtime_secs=1800)\n",
        "aml.train(x=x, y=y, training_frame=train)"
      ],
      "execution_count": null,
      "outputs": [
        {
          "output_type": "stream",
          "text": [
            "AutoML progress: |████████████████████████████████████████████████████████| 100%\n"
          ],
          "name": "stdout"
        }
      ]
    },
    {
      "cell_type": "code",
      "metadata": {
        "id": "VZTcufp8UnRK",
        "colab": {
          "base_uri": "https://localhost:8080/",
          "height": 481
        },
        "outputId": "58c538d5-a1b7-4e0f-ffca-639f24610f19"
      },
      "source": [
        "lb = h2o.automl.get_leaderboard(aml, extra_columns = 'ALL')\n",
        "lb.head(rows=lb.nrows)"
      ],
      "execution_count": null,
      "outputs": [
        {
          "output_type": "display_data",
          "data": {
            "text/html": [
              "<table>\n",
              "<thead>\n",
              "<tr><th>model_id                                           </th><th style=\"text-align: right;\">     auc</th><th style=\"text-align: right;\">  logloss</th><th style=\"text-align: right;\">   aucpr</th><th style=\"text-align: right;\">  mean_per_class_error</th><th style=\"text-align: right;\">    rmse</th><th style=\"text-align: right;\">      mse</th><th style=\"text-align: right;\">  training_time_ms</th><th style=\"text-align: right;\">  predict_time_per_row_ms</th><th>algo           </th></tr>\n",
              "</thead>\n",
              "<tbody>\n",
              "<tr><td>StackedEnsemble_AllModels_AutoML_20210623_021147   </td><td style=\"text-align: right;\">0.951086</td><td style=\"text-align: right;\"> 0.26446 </td><td style=\"text-align: right;\">0.959623</td><td style=\"text-align: right;\">              0.137869</td><td style=\"text-align: right;\">0.290649</td><td style=\"text-align: right;\">0.0844769</td><td style=\"text-align: right;\">             59142</td><td style=\"text-align: right;\">                 0.019475</td><td>StackedEnsemble</td></tr>\n",
              "<tr><td>StackedEnsemble_BestOfFamily_AutoML_20210623_021147</td><td style=\"text-align: right;\">0.95023 </td><td style=\"text-align: right;\"> 0.268239</td><td style=\"text-align: right;\">0.958579</td><td style=\"text-align: right;\">              0.138096</td><td style=\"text-align: right;\">0.292021</td><td style=\"text-align: right;\">0.0852763</td><td style=\"text-align: right;\">             33013</td><td style=\"text-align: right;\">                 0.017141</td><td>StackedEnsemble</td></tr>\n",
              "<tr><td>XGBoost_2_AutoML_20210623_021147                   </td><td style=\"text-align: right;\">0.944332</td><td style=\"text-align: right;\"> 0.334553</td><td style=\"text-align: right;\">0.952989</td><td style=\"text-align: right;\">              0.147056</td><td style=\"text-align: right;\">0.314813</td><td style=\"text-align: right;\">0.0991073</td><td style=\"text-align: right;\">              9429</td><td style=\"text-align: right;\">                 0.001364</td><td>XGBoost        </td></tr>\n",
              "<tr><td>XGBoost_1_AutoML_20210623_021147                   </td><td style=\"text-align: right;\">0.935443</td><td style=\"text-align: right;\"> 0.336508</td><td style=\"text-align: right;\">0.945683</td><td style=\"text-align: right;\">              0.160006</td><td style=\"text-align: right;\">0.321304</td><td style=\"text-align: right;\">0.103236 </td><td style=\"text-align: right;\">              7967</td><td style=\"text-align: right;\">                 0.001424</td><td>XGBoost        </td></tr>\n",
              "<tr><td>XGBoost_grid__1_AutoML_20210623_021147_model_1     </td><td style=\"text-align: right;\">0.934214</td><td style=\"text-align: right;\"> 0.313971</td><td style=\"text-align: right;\">0.94581 </td><td style=\"text-align: right;\">              0.165107</td><td style=\"text-align: right;\">0.317141</td><td style=\"text-align: right;\">0.100578 </td><td style=\"text-align: right;\">             64441</td><td style=\"text-align: right;\">                 0.003325</td><td>XGBoost        </td></tr>\n",
              "<tr><td>XGBoost_grid__1_AutoML_20210623_021147_model_2     </td><td style=\"text-align: right;\">0.922606</td><td style=\"text-align: right;\"> 0.418721</td><td style=\"text-align: right;\">0.929236</td><td style=\"text-align: right;\">              0.173192</td><td style=\"text-align: right;\">0.356075</td><td style=\"text-align: right;\">0.126789 </td><td style=\"text-align: right;\">              3073</td><td style=\"text-align: right;\">                 0.00094 </td><td>XGBoost        </td></tr>\n",
              "<tr><td>GBM_grid__1_AutoML_20210623_021147_model_1         </td><td style=\"text-align: right;\">0.92212 </td><td style=\"text-align: right;\"> 0.363589</td><td style=\"text-align: right;\">0.934996</td><td style=\"text-align: right;\">              0.174782</td><td style=\"text-align: right;\">0.338641</td><td style=\"text-align: right;\">0.114678 </td><td style=\"text-align: right;\">             41307</td><td style=\"text-align: right;\">                 0.009939</td><td>GBM            </td></tr>\n",
              "<tr><td>XGBoost_3_AutoML_20210623_021147                   </td><td style=\"text-align: right;\">0.898391</td><td style=\"text-align: right;\"> 0.387908</td><td style=\"text-align: right;\">0.911141</td><td style=\"text-align: right;\">              0.202678</td><td style=\"text-align: right;\">0.354732</td><td style=\"text-align: right;\">0.125835 </td><td style=\"text-align: right;\">              8812</td><td style=\"text-align: right;\">                 0.001016</td><td>XGBoost        </td></tr>\n",
              "<tr><td>DRF_1_AutoML_20210623_021147                       </td><td style=\"text-align: right;\">0.895524</td><td style=\"text-align: right;\"> 0.399064</td><td style=\"text-align: right;\">0.907351</td><td style=\"text-align: right;\">              0.207945</td><td style=\"text-align: right;\">0.353868</td><td style=\"text-align: right;\">0.125223 </td><td style=\"text-align: right;\">              8332</td><td style=\"text-align: right;\">                 0.003273</td><td>DRF            </td></tr>\n",
              "<tr><td>DeepLearning_1_AutoML_20210623_021147              </td><td style=\"text-align: right;\">0.886898</td><td style=\"text-align: right;\"> 0.374844</td><td style=\"text-align: right;\">0.890689</td><td style=\"text-align: right;\">              0.204846</td><td style=\"text-align: right;\">0.349642</td><td style=\"text-align: right;\">0.12225  </td><td style=\"text-align: right;\">              4868</td><td style=\"text-align: right;\">                 0.003166</td><td>DeepLearning   </td></tr>\n",
              "<tr><td>GBM_5_AutoML_20210623_021147                       </td><td style=\"text-align: right;\">0.878036</td><td style=\"text-align: right;\"> 0.512401</td><td style=\"text-align: right;\">0.887438</td><td style=\"text-align: right;\">              0.222198</td><td style=\"text-align: right;\">0.406776</td><td style=\"text-align: right;\">0.165467 </td><td style=\"text-align: right;\">              6961</td><td style=\"text-align: right;\">                 0.002526</td><td>GBM            </td></tr>\n",
              "<tr><td>XRT_1_AutoML_20210623_021147                       </td><td style=\"text-align: right;\">0.875688</td><td style=\"text-align: right;\"> 0.527081</td><td style=\"text-align: right;\">0.883297</td><td style=\"text-align: right;\">              0.231817</td><td style=\"text-align: right;\">0.423539</td><td style=\"text-align: right;\">0.179385 </td><td style=\"text-align: right;\">              8399</td><td style=\"text-align: right;\">                 0.002209</td><td>DRF            </td></tr>\n",
              "<tr><td>GBM_4_AutoML_20210623_021147                       </td><td style=\"text-align: right;\">0.833943</td><td style=\"text-align: right;\"> 0.507035</td><td style=\"text-align: right;\">0.841791</td><td style=\"text-align: right;\">              0.261499</td><td style=\"text-align: right;\">0.405984</td><td style=\"text-align: right;\">0.164823 </td><td style=\"text-align: right;\">              7430</td><td style=\"text-align: right;\">                 0.002667</td><td>GBM            </td></tr>\n",
              "<tr><td>GBM_3_AutoML_20210623_021147                       </td><td style=\"text-align: right;\">0.818791</td><td style=\"text-align: right;\"> 0.51242 </td><td style=\"text-align: right;\">0.825905</td><td style=\"text-align: right;\">              0.272356</td><td style=\"text-align: right;\">0.408954</td><td style=\"text-align: right;\">0.167243 </td><td style=\"text-align: right;\">              6837</td><td style=\"text-align: right;\">                 0.002675</td><td>GBM            </td></tr>\n",
              "<tr><td>GBM_2_AutoML_20210623_021147                       </td><td style=\"text-align: right;\">0.810789</td><td style=\"text-align: right;\"> 0.50634 </td><td style=\"text-align: right;\">0.817004</td><td style=\"text-align: right;\">              0.273783</td><td style=\"text-align: right;\">0.407213</td><td style=\"text-align: right;\">0.165823 </td><td style=\"text-align: right;\">              6620</td><td style=\"text-align: right;\">                 0.002733</td><td>GBM            </td></tr>\n",
              "<tr><td>GBM_1_AutoML_20210623_021147                       </td><td style=\"text-align: right;\">0.805814</td><td style=\"text-align: right;\"> 0.50827 </td><td style=\"text-align: right;\">0.812156</td><td style=\"text-align: right;\">              0.273811</td><td style=\"text-align: right;\">0.40847 </td><td style=\"text-align: right;\">0.166848 </td><td style=\"text-align: right;\">              6107</td><td style=\"text-align: right;\">                 0.002633</td><td>GBM            </td></tr>\n",
              "<tr><td>DeepLearning_grid__1_AutoML_20210623_021147_model_1</td><td style=\"text-align: right;\">0.7857  </td><td style=\"text-align: right;\"> 0.489973</td><td style=\"text-align: right;\">0.783385</td><td style=\"text-align: right;\">              0.27788 </td><td style=\"text-align: right;\">0.405581</td><td style=\"text-align: right;\">0.164496 </td><td style=\"text-align: right;\">             10768</td><td style=\"text-align: right;\">                 0.003437</td><td>DeepLearning   </td></tr>\n",
              "<tr><td>GBM_grid__1_AutoML_20210623_021147_model_2         </td><td style=\"text-align: right;\">0.785393</td><td style=\"text-align: right;\"> 0.624636</td><td style=\"text-align: right;\">0.808524</td><td style=\"text-align: right;\">              0.320158</td><td style=\"text-align: right;\">0.465201</td><td style=\"text-align: right;\">0.216412 </td><td style=\"text-align: right;\">              1877</td><td style=\"text-align: right;\">                 0.00139 </td><td>GBM            </td></tr>\n",
              "<tr><td>GLM_1_AutoML_20210623_021147                       </td><td style=\"text-align: right;\">0.769956</td><td style=\"text-align: right;\"> 0.525398</td><td style=\"text-align: right;\">0.76418 </td><td style=\"text-align: right;\">              0.282977</td><td style=\"text-align: right;\">0.418194</td><td style=\"text-align: right;\">0.174886 </td><td style=\"text-align: right;\">             32656</td><td style=\"text-align: right;\">                 0.000761</td><td>GLM            </td></tr>\n",
              "<tr><td>DeepLearning_grid__2_AutoML_20210623_021147_model_1</td><td style=\"text-align: right;\">0.766108</td><td style=\"text-align: right;\"> 0.489686</td><td style=\"text-align: right;\">0.765443</td><td style=\"text-align: right;\">              0.279815</td><td style=\"text-align: right;\">0.407572</td><td style=\"text-align: right;\">0.166115 </td><td style=\"text-align: right;\">              8586</td><td style=\"text-align: right;\">                 0.003997</td><td>DeepLearning   </td></tr>\n",
              "<tr><td>DeepLearning_grid__3_AutoML_20210623_021147_model_1</td><td style=\"text-align: right;\">0.7551  </td><td style=\"text-align: right;\"> 0.49833 </td><td style=\"text-align: right;\">0.755529</td><td style=\"text-align: right;\">              0.280582</td><td style=\"text-align: right;\">0.411123</td><td style=\"text-align: right;\">0.169022 </td><td style=\"text-align: right;\">             10612</td><td style=\"text-align: right;\">                 0.005008</td><td>DeepLearning   </td></tr>\n",
              "</tbody>\n",
              "</table>"
            ]
          },
          "metadata": {
            "tags": []
          }
        },
        {
          "output_type": "execute_result",
          "data": {
            "text/plain": [
              ""
            ]
          },
          "metadata": {
            "tags": []
          },
          "execution_count": 9
        }
      ]
    },
    {
      "cell_type": "code",
      "metadata": {
        "colab": {
          "base_uri": "https://localhost:8080/"
        },
        "id": "GsbB3D85UxSb",
        "outputId": "2028c11a-41be-4f0b-a624-48f87990fa35"
      },
      "source": [
        "preds = aml.predict(test)"
      ],
      "execution_count": null,
      "outputs": [
        {
          "output_type": "stream",
          "text": [
            "stackedensemble prediction progress: |████████████████████████████████████| 100%\n"
          ],
          "name": "stdout"
        }
      ]
    },
    {
      "cell_type": "code",
      "metadata": {
        "id": "qiC1T35KdYFc",
        "colab": {
          "base_uri": "https://localhost:8080/",
          "height": 250
        },
        "outputId": "4d1fd61a-314f-4559-9494-c430fc3a5301"
      },
      "source": [
        "preds"
      ],
      "execution_count": null,
      "outputs": [
        {
          "output_type": "display_data",
          "data": {
            "text/html": [
              "<table>\n",
              "<thead>\n",
              "<tr><th style=\"text-align: right;\">  predict</th><th style=\"text-align: right;\">       p0</th><th style=\"text-align: right;\">         p1</th></tr>\n",
              "</thead>\n",
              "<tbody>\n",
              "<tr><td style=\"text-align: right;\">        1</td><td style=\"text-align: right;\">0.126101 </td><td style=\"text-align: right;\">0.873899   </td></tr>\n",
              "<tr><td style=\"text-align: right;\">        1</td><td style=\"text-align: right;\">0.525882 </td><td style=\"text-align: right;\">0.474118   </td></tr>\n",
              "<tr><td style=\"text-align: right;\">        1</td><td style=\"text-align: right;\">0.160857 </td><td style=\"text-align: right;\">0.839143   </td></tr>\n",
              "<tr><td style=\"text-align: right;\">        1</td><td style=\"text-align: right;\">0.0312738</td><td style=\"text-align: right;\">0.968726   </td></tr>\n",
              "<tr><td style=\"text-align: right;\">        1</td><td style=\"text-align: right;\">0.0490547</td><td style=\"text-align: right;\">0.950945   </td></tr>\n",
              "<tr><td style=\"text-align: right;\">        0</td><td style=\"text-align: right;\">0.999989 </td><td style=\"text-align: right;\">1.14568e-05</td></tr>\n",
              "<tr><td style=\"text-align: right;\">        0</td><td style=\"text-align: right;\">0.999999 </td><td style=\"text-align: right;\">1.28253e-06</td></tr>\n",
              "<tr><td style=\"text-align: right;\">        0</td><td style=\"text-align: right;\">1        </td><td style=\"text-align: right;\">3.51591e-07</td></tr>\n",
              "<tr><td style=\"text-align: right;\">        1</td><td style=\"text-align: right;\">0.280571 </td><td style=\"text-align: right;\">0.719429   </td></tr>\n",
              "<tr><td style=\"text-align: right;\">        0</td><td style=\"text-align: right;\">0.639677 </td><td style=\"text-align: right;\">0.360323   </td></tr>\n",
              "</tbody>\n",
              "</table>"
            ]
          },
          "metadata": {
            "tags": []
          }
        },
        {
          "output_type": "execute_result",
          "data": {
            "text/plain": [
              ""
            ]
          },
          "metadata": {
            "tags": []
          },
          "execution_count": 11
        }
      ]
    },
    {
      "cell_type": "code",
      "metadata": {
        "id": "E9uaQvolhou7"
      },
      "source": [
        ""
      ],
      "execution_count": null,
      "outputs": []
    }
  ]
}