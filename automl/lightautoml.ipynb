{
  "nbformat": 4,
  "nbformat_minor": 0,
  "metadata": {
    "colab": {
      "name": "lightautoml.ipynb",
      "provenance": [],
      "collapsed_sections": []
    },
    "kernelspec": {
      "name": "python3",
      "display_name": "Python 3"
    },
    "language_info": {
      "name": "python"
    }
  },
  "cells": [
    {
      "cell_type": "code",
      "metadata": {
        "id": "b3N1qUdxlf4H",
        "colab": {
          "base_uri": "https://localhost:8080/"
        },
        "outputId": "e0a8f858-ae23-4765-a392-1a55653f1bd3"
      },
      "source": [
        "!pip install --quiet category_encoders\n",
        "!pip install --quiet optuna\n",
        "!pip install --quiet -U lightautoml"
      ],
      "execution_count": null,
      "outputs": [
        {
          "output_type": "stream",
          "text": [
            "\u001b[K     |████████████████████████████████| 81kB 9.5MB/s \n",
            "\u001b[K     |████████████████████████████████| 307kB 26.9MB/s \n",
            "\u001b[K     |████████████████████████████████| 174kB 39.1MB/s \n",
            "\u001b[K     |████████████████████████████████| 81kB 10.5MB/s \n",
            "\u001b[K     |████████████████████████████████| 81kB 10.3MB/s \n",
            "\u001b[K     |████████████████████████████████| 143kB 35.3MB/s \n",
            "\u001b[K     |████████████████████████████████| 51kB 7.3MB/s \n",
            "\u001b[K     |████████████████████████████████| 112kB 48.9MB/s \n",
            "\u001b[?25h  Building wheel for pyperclip (setup.py) ... \u001b[?25l\u001b[?25hdone\n",
            "\u001b[K     |████████████████████████████████| 256kB 28.4MB/s \n",
            "\u001b[K     |████████████████████████████████| 1.2MB 36.9MB/s \n",
            "\u001b[K     |████████████████████████████████| 204kB 43.4MB/s \n",
            "\u001b[K     |████████████████████████████████| 430kB 39.7MB/s \n",
            "\u001b[K     |████████████████████████████████| 102kB 12.7MB/s \n",
            "\u001b[K     |████████████████████████████████| 2.5MB 40.4MB/s \n",
            "\u001b[K     |████████████████████████████████| 69.2MB 45kB/s \n",
            "\u001b[K     |████████████████████████████████| 235kB 45.0MB/s \n",
            "\u001b[K     |████████████████████████████████| 9.2MB 27.6MB/s \n",
            "\u001b[K     |████████████████████████████████| 38.2MB 83kB/s \n",
            "\u001b[K     |████████████████████████████████| 901kB 27.9MB/s \n",
            "\u001b[K     |████████████████████████████████| 3.3MB 30.3MB/s \n",
            "\u001b[K     |████████████████████████████████| 552kB 47.6MB/s \n",
            "\u001b[?25h  Building wheel for efficientnet-pytorch (setup.py) ... \u001b[?25l\u001b[?25hdone\n",
            "  Building wheel for json2html (setup.py) ... \u001b[?25l\u001b[?25hdone\n",
            "  Building wheel for log-calls (setup.py) ... \u001b[?25l\u001b[?25hdone\n",
            "\u001b[31mERROR: datascience 0.10.6 has requirement folium==0.2.1, but you'll have folium 0.8.3 which is incompatible.\u001b[0m\n"
          ],
          "name": "stdout"
        }
      ]
    },
    {
      "cell_type": "code",
      "metadata": {
        "id": "eCpJYduElmA2"
      },
      "source": [
        "import logging\n",
        "import os\n",
        "import time\n",
        "\n",
        "import numpy as np\n",
        "import pandas as pd\n",
        "from sklearn.metrics import roc_auc_score\n",
        "from sklearn.model_selection import train_test_split\n",
        "import torch\n",
        "import random\n",
        "import os\n",
        "\n",
        "from lightautoml.automl.presets.tabular_presets import TabularAutoML, TabularUtilizedAutoML\n",
        "from lightautoml.dataset.roles import DatetimeRole\n",
        "from lightautoml.tasks import Task\n",
        "from lightautoml.utils.profiler import Profiler\n",
        "\n",
        "from sklearn.preprocessing import OneHotEncoder, LabelEncoder, StandardScaler\n",
        "from sklearn.impute import SimpleImputer\n",
        "from sklearn.linear_model import LogisticRegression, SGDClassifier\n",
        "from sklearn.svm import SVC\n",
        "from sklearn.ensemble import RandomForestClassifier, ExtraTreesClassifier, AdaBoostClassifier, GradientBoostingClassifier, VotingClassifier\n",
        "from sklearn.neighbors import KNeighborsClassifier\n",
        "from sklearn.naive_bayes import GaussianNB\n",
        "from sklearn.tree import DecisionTreeClassifier\n",
        "from sklearn.metrics import confusion_matrix, precision_score, recall_score, f1_score, precision_recall_curve, classification_report, roc_curve, roc_auc_score\n",
        "from xgboost import XGBClassifier\n",
        "from sklearn.model_selection import train_test_split, GridSearchCV, RandomizedSearchCV, cross_val_score, cross_val_predict, StratifiedKFold, learning_curve\n",
        "import lightgbm as lgb\n",
        "from lightgbm import LGBMClassifier\n",
        "from category_encoders.cat_boost import CatBoostEncoder"
      ],
      "execution_count": null,
      "outputs": []
    },
    {
      "cell_type": "code",
      "metadata": {
        "id": "m3rN8usdHjsk"
      },
      "source": [
        "N_THREADS = 4 \n",
        "N_FOLDS = 5 \n",
        "SEED = 42\n",
        "TEST_SIZE = 0.2 \n",
        "TIMEOUT = 3 * 3600\n",
        "TARGET_NAME = 'correct'"
      ],
      "execution_count": null,
      "outputs": []
    },
    {
      "cell_type": "code",
      "metadata": {
        "id": "P5fqYjxbh-WC"
      },
      "source": [
        "torch.manual_seed(SEED)\n",
        "torch.cuda.manual_seed_all(SEED)\n",
        "torch.backends.cudnn.deterministic = True\n",
        "torch.backends.cudnn.benchmark = False\n",
        "np.random.seed(SEED)\n",
        "random.seed(SEED)\n",
        "os.environ['PYTHONHASHSEED'] = str(SEED)\n",
        "torch.set_num_threads(N_THREADS)"
      ],
      "execution_count": null,
      "outputs": []
    },
    {
      "cell_type": "code",
      "metadata": {
        "colab": {
          "base_uri": "https://localhost:8080/",
          "height": 206
        },
        "id": "d4QjknMFlp_j",
        "outputId": "f05a36c1-5fdc-4cf2-903b-ed3e65a28659"
      },
      "source": [
        "train = pd.read_csv(\"/content/drive/MyDrive/train.csv\")\n",
        "test = pd.read_csv(\"/content/drive/MyDrive/test.csv\")\n",
        "train.head()"
      ],
      "execution_count": null,
      "outputs": [
        {
          "output_type": "execute_result",
          "data": {
            "text/html": [
              "<div>\n",
              "<style scoped>\n",
              "    .dataframe tbody tr th:only-of-type {\n",
              "        vertical-align: middle;\n",
              "    }\n",
              "\n",
              "    .dataframe tbody tr th {\n",
              "        vertical-align: top;\n",
              "    }\n",
              "\n",
              "    .dataframe thead th {\n",
              "        text-align: right;\n",
              "    }\n",
              "</style>\n",
              "<table border=\"1\" class=\"dataframe\">\n",
              "  <thead>\n",
              "    <tr style=\"text-align: right;\">\n",
              "      <th></th>\n",
              "      <th>row_id</th>\n",
              "      <th>order_id</th>\n",
              "      <th>student_id</th>\n",
              "      <th>bundle_id</th>\n",
              "      <th>question_id</th>\n",
              "      <th>feature_1</th>\n",
              "      <th>feature_2</th>\n",
              "      <th>feature_3</th>\n",
              "      <th>feature_4</th>\n",
              "      <th>feature_5</th>\n",
              "      <th>correct</th>\n",
              "    </tr>\n",
              "  </thead>\n",
              "  <tbody>\n",
              "    <tr>\n",
              "      <th>0</th>\n",
              "      <td>0</td>\n",
              "      <td>0</td>\n",
              "      <td>0</td>\n",
              "      <td>891</td>\n",
              "      <td>4664</td>\n",
              "      <td>18000</td>\n",
              "      <td>18000</td>\n",
              "      <td>0</td>\n",
              "      <td>0</td>\n",
              "      <td>0</td>\n",
              "      <td>1</td>\n",
              "    </tr>\n",
              "    <tr>\n",
              "      <th>1</th>\n",
              "      <td>1</td>\n",
              "      <td>0</td>\n",
              "      <td>1</td>\n",
              "      <td>60</td>\n",
              "      <td>5957</td>\n",
              "      <td>11000</td>\n",
              "      <td>11000</td>\n",
              "      <td>0</td>\n",
              "      <td>0</td>\n",
              "      <td>0</td>\n",
              "      <td>0</td>\n",
              "    </tr>\n",
              "    <tr>\n",
              "      <th>2</th>\n",
              "      <td>2</td>\n",
              "      <td>0</td>\n",
              "      <td>1</td>\n",
              "      <td>60</td>\n",
              "      <td>5951</td>\n",
              "      <td>26000</td>\n",
              "      <td>26000</td>\n",
              "      <td>0</td>\n",
              "      <td>5</td>\n",
              "      <td>0</td>\n",
              "      <td>1</td>\n",
              "    </tr>\n",
              "    <tr>\n",
              "      <th>3</th>\n",
              "      <td>3</td>\n",
              "      <td>0</td>\n",
              "      <td>1</td>\n",
              "      <td>60</td>\n",
              "      <td>5952</td>\n",
              "      <td>41000</td>\n",
              "      <td>41000</td>\n",
              "      <td>0</td>\n",
              "      <td>3</td>\n",
              "      <td>0</td>\n",
              "      <td>1</td>\n",
              "    </tr>\n",
              "    <tr>\n",
              "      <th>4</th>\n",
              "      <td>4</td>\n",
              "      <td>0</td>\n",
              "      <td>2</td>\n",
              "      <td>1783</td>\n",
              "      <td>6101</td>\n",
              "      <td>12000</td>\n",
              "      <td>12000</td>\n",
              "      <td>0</td>\n",
              "      <td>4</td>\n",
              "      <td>0</td>\n",
              "      <td>1</td>\n",
              "    </tr>\n",
              "  </tbody>\n",
              "</table>\n",
              "</div>"
            ],
            "text/plain": [
              "   row_id  order_id  student_id  ...  feature_4  feature_5  correct\n",
              "0       0         0           0  ...          0          0        1\n",
              "1       1         0           1  ...          0          0        0\n",
              "2       2         0           1  ...          5          0        1\n",
              "3       3         0           1  ...          3          0        1\n",
              "4       4         0           2  ...          4          0        1\n",
              "\n",
              "[5 rows x 11 columns]"
            ]
          },
          "metadata": {
            "tags": []
          },
          "execution_count": 5
        }
      ]
    },
    {
      "cell_type": "code",
      "metadata": {
        "colab": {
          "base_uri": "https://localhost:8080/",
          "height": 204
        },
        "id": "iDan4mo2lrHN",
        "outputId": "41a003d3-c555-4a7c-fa15-47e165306c94"
      },
      "source": [
        "dataset = [train, test]\n",
        "for data in dataset:\n",
        "  data.drop('row_id', axis=1, inplace=True)\n",
        "train.head()\n",
        "\n",
        "ce = CatBoostEncoder()\n",
        "cat_feats = ['order_id', 'student_id', 'bundle_id', 'question_id', 'feature_3', 'feature_4', 'feature_5']\n",
        "train[cat_feats] = ce.fit_transform(train[cat_feats], train['correct'])\n",
        "test[cat_feats] = ce.transform(test[cat_feats])\n",
        "\n",
        "sc = StandardScaler()\n",
        "train.iloc[:,4:6]=sc.fit_transform(train.iloc[:,4:6])\n",
        "test.iloc[:,4:6]=sc.transform(test.iloc[:,4:6])\n",
        "\n",
        "for feat in cat_feats:\n",
        "  train[feat] = train[feat].astype('category')\n",
        "  test[feat] = test[feat].astype('category')\n",
        "train.head()"
      ],
      "execution_count": null,
      "outputs": [
        {
          "output_type": "execute_result",
          "data": {
            "text/html": [
              "<div>\n",
              "<style scoped>\n",
              "    .dataframe tbody tr th:only-of-type {\n",
              "        vertical-align: middle;\n",
              "    }\n",
              "\n",
              "    .dataframe tbody tr th {\n",
              "        vertical-align: top;\n",
              "    }\n",
              "\n",
              "    .dataframe thead th {\n",
              "        text-align: right;\n",
              "    }\n",
              "</style>\n",
              "<table border=\"1\" class=\"dataframe\">\n",
              "  <thead>\n",
              "    <tr style=\"text-align: right;\">\n",
              "      <th></th>\n",
              "      <th>order_id</th>\n",
              "      <th>student_id</th>\n",
              "      <th>bundle_id</th>\n",
              "      <th>question_id</th>\n",
              "      <th>feature_1</th>\n",
              "      <th>feature_2</th>\n",
              "      <th>feature_3</th>\n",
              "      <th>feature_4</th>\n",
              "      <th>feature_5</th>\n",
              "      <th>correct</th>\n",
              "    </tr>\n",
              "  </thead>\n",
              "  <tbody>\n",
              "    <tr>\n",
              "      <th>0</th>\n",
              "      <td>0</td>\n",
              "      <td>0</td>\n",
              "      <td>891</td>\n",
              "      <td>4664</td>\n",
              "      <td>-0.023827</td>\n",
              "      <td>-0.029006</td>\n",
              "      <td>0</td>\n",
              "      <td>0</td>\n",
              "      <td>0</td>\n",
              "      <td>1</td>\n",
              "    </tr>\n",
              "    <tr>\n",
              "      <th>1</th>\n",
              "      <td>0</td>\n",
              "      <td>1</td>\n",
              "      <td>60</td>\n",
              "      <td>5957</td>\n",
              "      <td>-0.028121</td>\n",
              "      <td>-0.033224</td>\n",
              "      <td>0</td>\n",
              "      <td>0</td>\n",
              "      <td>0</td>\n",
              "      <td>0</td>\n",
              "    </tr>\n",
              "    <tr>\n",
              "      <th>2</th>\n",
              "      <td>0</td>\n",
              "      <td>1</td>\n",
              "      <td>60</td>\n",
              "      <td>5951</td>\n",
              "      <td>-0.018918</td>\n",
              "      <td>-0.024186</td>\n",
              "      <td>0</td>\n",
              "      <td>5</td>\n",
              "      <td>0</td>\n",
              "      <td>1</td>\n",
              "    </tr>\n",
              "    <tr>\n",
              "      <th>3</th>\n",
              "      <td>0</td>\n",
              "      <td>1</td>\n",
              "      <td>60</td>\n",
              "      <td>5952</td>\n",
              "      <td>-0.009715</td>\n",
              "      <td>-0.015147</td>\n",
              "      <td>0</td>\n",
              "      <td>3</td>\n",
              "      <td>0</td>\n",
              "      <td>1</td>\n",
              "    </tr>\n",
              "    <tr>\n",
              "      <th>4</th>\n",
              "      <td>0</td>\n",
              "      <td>2</td>\n",
              "      <td>1783</td>\n",
              "      <td>6101</td>\n",
              "      <td>-0.027508</td>\n",
              "      <td>-0.032622</td>\n",
              "      <td>0</td>\n",
              "      <td>4</td>\n",
              "      <td>0</td>\n",
              "      <td>1</td>\n",
              "    </tr>\n",
              "  </tbody>\n",
              "</table>\n",
              "</div>"
            ],
            "text/plain": [
              "  order_id student_id bundle_id  ... feature_4  feature_5  correct\n",
              "0        0          0       891  ...         0          0        1\n",
              "1        0          1        60  ...         0          0        0\n",
              "2        0          1        60  ...         5          0        1\n",
              "3        0          1        60  ...         3          0        1\n",
              "4        0          2      1783  ...         4          0        1\n",
              "\n",
              "[5 rows x 10 columns]"
            ]
          },
          "metadata": {
            "tags": []
          },
          "execution_count": 6
        }
      ]
    },
    {
      "cell_type": "code",
      "metadata": {
        "colab": {
          "base_uri": "https://localhost:8080/"
        },
        "id": "wjBzbKmepAww",
        "outputId": "b97448b9-6eeb-40ad-8703-32154892155e"
      },
      "source": [
        "train, val = train_test_split(train, test_size = 0.1, stratify=train['correct'], random_state = 42)\n",
        "print('Data splitted. Parts sizes: train_data = {}, val_data = {}'.format(train.shape, val.shape))"
      ],
      "execution_count": null,
      "outputs": [
        {
          "output_type": "stream",
          "text": [
            "Data splitted. Parts sizes: train_data = (531071, 10), val_data = (59008, 10)\n"
          ],
          "name": "stdout"
        }
      ]
    },
    {
      "cell_type": "code",
      "metadata": {
        "id": "xYfs1F4jIgmc"
      },
      "source": [
        "task = Task('binary',)\n",
        "roles = {'target': 'correct'}"
      ],
      "execution_count": null,
      "outputs": []
    },
    {
      "cell_type": "code",
      "metadata": {
        "colab": {
          "base_uri": "https://localhost:8080/"
        },
        "id": "t5ztgJpxwSwH",
        "outputId": "80c2410f-0d97-4a93-c788-b4435d83e57f"
      },
      "source": [
        "automl = TabularAutoML(task = task, \n",
        "                        timeout = TIMEOUT,\n",
        "                        cpu_limit = 4,\n",
        "                        general_params = {'use_algos': [['linear_l2', 'lgb', 'lgb_tuned', 'cb' 'cb_tuned']]},\n",
        "                        reader_params = {'n_jobs': 4, 'cv': 10, 'random_state': 42},\n",
        "                        lgb_params = {'default_params': {'num_threads': N_THREADS, 'categorical_feature': [0, 1, 2, 3, 6, 7, 8], \"random_state\": 42, \"objective\": \"binary\", \"metric\": \"auc\"}}, verbose=0)\n",
        "\n",
        "oof_pred = automl.fit_predict(train, roles = roles)\n",
        "print('oof_pred:\\n{}\\nShape = {}'.format(oof_pred, oof_pred.shape))"
      ],
      "execution_count": null,
      "outputs": [
        {
          "output_type": "stream",
          "text": [
            "oof_pred:\n",
            "array([[7.1078503e-06],\n",
            "       [6.4679241e-01],\n",
            "       [8.1064916e-01],\n",
            "       ...,\n",
            "       [8.8237435e-01],\n",
            "       [8.1451178e-01],\n",
            "       [5.4862171e-01]], dtype=float32)\n",
            "Shape = (531071, 1)\n"
          ],
          "name": "stdout"
        }
      ]
    },
    {
      "cell_type": "code",
      "metadata": {
        "colab": {
          "base_uri": "https://localhost:8080/",
          "height": 682
        },
        "id": "LqVbBb08NCVC",
        "outputId": "566237ed-01ed-4dbe-95b1-99bc421b5a57"
      },
      "source": [
        "fast_fi = automl.get_feature_scores('fast', silent = False)\n",
        "fast_fi.set_index('Feature')['Importance'].plot.bar(figsize = (20, 10), grid = True)\n",
        "\n",
        "# accurate_fi = automl.get_feature_scores('accurate', val, silent = False)\n",
        "# accurate_fi.set_index('Feature')['Importance'].plot.bar(figsize = (20, 10), grid = True)"
      ],
      "execution_count": null,
      "outputs": [
        {
          "output_type": "execute_result",
          "data": {
            "text/plain": [
              "<matplotlib.axes._subplots.AxesSubplot at 0x7f755e210690>"
            ]
          },
          "metadata": {
            "tags": []
          },
          "execution_count": 11
        },
        {
          "output_type": "display_data",
          "data": {
            "image/png": "[encoded data removed]",
            "text/plain": [
              "<Figure size 1440x720 with 1 Axes>"
            ]
          },
          "metadata": {
            "tags": [],
            "needs_background": "light"
          }
        }
      ]
    },
    {
      "cell_type": "code",
      "metadata": {
        "colab": {
          "base_uri": "https://localhost:8080/"
        },
        "id": "I6owc2CDxraE",
        "outputId": "72471b91-3e01-490f-dd5c-07a40707fcbb"
      },
      "source": [
        "test_pred = automl.predict(val)\n",
        "\n",
        "print('Prediction for test data:\\n{}\\nShape = {}'.format(test_pred, test_pred.shape))\n",
        "\n",
        "print('Check scores...')\n",
        "print('OOF score: {}'.format(roc_auc_score(train[TARGET_NAME].values, oof_pred.data)))\n",
        "print('TEST score: {}'.format(roc_auc_score(val[TARGET_NAME].values, test_pred.data)))"
      ],
      "execution_count": null,
      "outputs": [
        {
          "output_type": "stream",
          "text": [
            "Prediction for test data:\n",
            "array([[4.4309591e-06],\n",
            "       [9.1617179e-01],\n",
            "       [7.6041871e-01],\n",
            "       ...,\n",
            "       [7.9990435e-01],\n",
            "       [9.4212717e-01],\n",
            "       [4.9161494e-01]], dtype=float32)\n",
            "Shape = (59008, 1)\n",
            "Check scores...\n",
            "OOF score: 0.887750357557155\n",
            "TEST score: 0.8824260260655831\n"
          ],
          "name": "stdout"
        }
      ]
    },
    {
      "cell_type": "code",
      "metadata": {
        "id": "5OoxSCJIN41-"
      },
      "source": [
        ""
      ],
      "execution_count": null,
      "outputs": []
    }
  ]
}